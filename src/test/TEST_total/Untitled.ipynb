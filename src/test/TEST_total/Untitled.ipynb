{
 "cells": [
  {
   "cell_type": "code",
   "execution_count": 34,
   "id": "d4553738",
   "metadata": {},
   "outputs": [
    {
     "name": "stdout",
     "output_type": "stream",
     "text": [
      "init_time: [2.001909, 1.22991, 2.062407, 2.027132, 2.15366, 2.150341, 2.087375, 1.205498, 1.169491, 2.200962, 1.258066, 1.136811, 1.270979, 2.189868, 1.174185, 1.25239, 1.384081, 1.271503, 2.121195, 1.202288, 2.171972]\n",
      "operator_time: [0.243119, 0.237814, 0.239777, 0.260922, 0.238286, 0.239281, 0.238568, 0.25779, 0.238677, 0.23969, 0.238132, 0.258377, 0.243375, 0.259174, 0.238233, 0.228601, 0.258386, 0.23891, 0.239231, 0.238365, 0.257377]\n",
      "gauss_time: [0.020484, 0.020839, 0.021525, 0.023859, 0.021306, 0.020889, 0.01991, 0.024857, 0.02128, 0.021985, 0.02173, 0.023283, 0.018443, 0.022561, 0.021346, 0.019524, 0.022637, 0.021304, 0.020788, 0.021432, 0.023581]\n",
      "setup_time: [6.059854, 11.17173, 1.980989, 10.761615, 0.756599, 1.639381, 1.63119, 7.20663, 1.56374, 2.184719, 1.085721, 7.084245, 10.084379, 1.65795, 2.162807, 11.078924, 1.167219, 1.877937, 10.502444, 4.665338, 6.041123]\n",
      "solve_time: [0.105348, 85.808354, 0.109066, 3.861411, 0.2902, 0.091354, 0.091199, 0.104382, 0.19171, 0.19187, 0.191218, 0.144923, 48.737014, 0.091029, 0.109117, 87.349717, 0.190227, 0.19268, 4.231899, 0.105958, 0.094004]\n",
      "idx: ['inter.out.12', 'inter.out.21', 'inter.out.16', 'inter.out.20', 'inter.out.3', 'inter.out.17', 'inter.out.6', 'inter.out.9', 'inter.out.4', 'inter.out.19', 'inter.out.15', 'inter.out.8', 'inter.out.24', 'inter.out.18', 'inter.out.14', 'inter.out.11', 'inter.out.5', 'inter.out.0', 'inter.out.10', 'inter.out.13', 'inter.out.7']\n",
      "21\n"
     ]
    }
   ],
   "source": [
    "import re\n",
    "import glob\n",
    "\n",
    "# Define the file pattern and arrays\n",
    "filename_pattern = \"inter.out*\"\n",
    "output_arrays = {\n",
    "    \"init_time\": [],\n",
    "    \"operator_time\": [],\n",
    "    \"gauss_time\": [],\n",
    "    \"setup_time\": [],\n",
    "    \"solve_time\": [],\n",
    "    \"idx\": [],\n",
    "}\n",
    "\n",
    "# Regular expression pattern to match the \"wall clock time\" lines\n",
    "pattern = r\"wall clock time = (\\d+\\.\\d+)\"\n",
    "\n",
    "# Find all files matching the pattern\n",
    "files = glob.glob(filename_pattern)\n",
    "num_ok = 0\n",
    "# Iterate over the files\n",
    "for filename in files:\n",
    "    try:\n",
    "        # Open the file for reading\n",
    "        with open(filename, \"r\") as file:\n",
    "            # Read the file contents\n",
    "            contents = file.read()\n",
    "\n",
    "            # Find all matches of the pattern\n",
    "            matches = re.findall(pattern, contents)\n",
    "            if len(matches) == 5:\n",
    "                num_ok += 1\n",
    "                #print(len(matches))\n",
    "            # Add the matches to the respective arrays\n",
    "                for j, match in enumerate(matches):\n",
    "                    if j == 0:\n",
    "                        output_arrays[\"init_time\"].append(float(match))\n",
    "                    elif j == 1:\n",
    "                        output_arrays[\"operator_time\"].append(float(match))\n",
    "                    elif j == 2:\n",
    "                        output_arrays[\"gauss_time\"].append(float(match))\n",
    "                    elif j == 3:\n",
    "                        output_arrays[\"setup_time\"].append(float(match))\n",
    "                    elif j == 4:\n",
    "                        output_arrays[\"solve_time\"].append(float(match))\n",
    "                output_arrays[\"idx\"].append(filename)\n",
    "\n",
    "            #print(f\"Processed {filename}\")\n",
    "    except FileNotFoundError:\n",
    "        print(f\"File {filename} not found\")\n",
    "\n",
    "# Print the resulting arrays\n",
    "for key, arr in output_arrays.items():\n",
    "    print(f\"{key}: {arr}\")\n",
    "print(num_ok)"
   ]
  },
  {
   "cell_type": "code",
   "execution_count": 35,
   "id": "c12964bf",
   "metadata": {},
   "outputs": [
    {
     "data": {
      "text/plain": [
       "21"
      ]
     },
     "execution_count": 35,
     "metadata": {},
     "output_type": "execute_result"
    }
   ],
   "source": [
    "len(output_arrays[\"init_time\"])"
   ]
  },
  {
   "cell_type": "code",
   "execution_count": 36,
   "id": "3cafa856",
   "metadata": {},
   "outputs": [
    {
     "name": "stdout",
     "output_type": "stream",
     "text": [
      "21\n",
      "21\n",
      "21\n",
      "21\n",
      "21\n",
      "21\n"
     ]
    }
   ],
   "source": [
    "for i in output_arrays:\n",
    "    print(len(output_arrays[i]))"
   ]
  },
  {
   "cell_type": "code",
   "execution_count": 46,
   "id": "f2ed0116",
   "metadata": {},
   "outputs": [
    {
     "name": "stdout",
     "output_type": "stream",
     "text": [
      "{3.4232090000000004} {'1-inter.out.14'}\n",
      "{3.4681830000000002} {'1-inter.out.0'}\n",
      "{7.42518} {'1-inter.out.12'}\n",
      "{2.4731680000000003} {'1-inter.out.3'}\n",
      "{7.156988999999999} {'1-inter.out.7'}\n",
      "{3.166776} {'1-inter.out.6'}\n",
      "{60.083721999999995} {'1-inter.out.24'}\n",
      "{6.021309} {'1-inter.out.13'}\n",
      "{3.277342} {'1-inter.out.'}\n",
      "{2.3700550000000002} {'1-inter.out.5'}\n",
      "{15.971506} {'1-inter.out.10'}\n",
      "{8.200445} {'1-inter.out.8'}\n",
      "{3.394342} {'1-inter.out.19'}\n",
      "{15.787672} {'1-inter.out.20'}\n",
      "{3.150728} {'1-inter.out.17'}\n",
      "{3.4084250000000003} {'1-inter.out.16'}\n",
      "{3.1097349999999997} {'1-inter.out.18'}\n",
      "{8.203828000000001} {'1-inter.out.9'}\n",
      "{2.296741} {'1-inter.out.15'}\n",
      "{2.349525} {'1-inter.out.4'}\n"
     ]
    }
   ],
   "source": [
    "total_time = []\n",
    "for i in range(20):\n",
    "    sum = 0\n",
    "    for j in output_arrays:\n",
    "        if(j != \"idx\"):\n",
    "            sum += output_arrays[j][i]\n",
    "    print({sum}, {output_arrays[\"idx\"][i]})\n",
    "    total_time.append(sum)"
   ]
  },
  {
   "cell_type": "code",
   "execution_count": 40,
   "id": "18ed683e",
   "metadata": {},
   "outputs": [
    {
     "data": {
      "text/plain": [
       "[8.430713999999998,\n",
       " 98.46864699999999,\n",
       " 4.4137640000000005,\n",
       " 16.934939,\n",
       " 3.460051,\n",
       " 4.141246,\n",
       " 4.068242,\n",
       " 8.799157,\n",
       " 3.184898,\n",
       " 4.839226,\n",
       " 2.794867,\n",
       " 8.647639,\n",
       " 60.35419,\n",
       " 4.220582,\n",
       " 3.705688,\n",
       " 99.929156,\n",
       " 3.02255,\n",
       " 3.602334,\n",
       " 17.115557000000003,\n",
       " 6.2333810000000005,\n",
       " 8.588057]"
      ]
     },
     "execution_count": 40,
     "metadata": {},
     "output_type": "execute_result"
    }
   ],
   "source": [
    "total_time"
   ]
  },
  {
   "cell_type": "code",
   "execution_count": 45,
   "id": "ff50e3a4",
   "metadata": {},
   "outputs": [
    {
     "data": {
      "text/plain": [
       "20"
      ]
     },
     "execution_count": 45,
     "metadata": {},
     "output_type": "execute_result"
    }
   ],
   "source": [
    "len(output_arrays[\"idx\"])"
   ]
  },
  {
   "cell_type": "code",
   "execution_count": 43,
   "id": "0b44489c",
   "metadata": {},
   "outputs": [
    {
     "name": "stdout",
     "output_type": "stream",
     "text": [
      "init_time: [1.091782, 1.334862, 1.322857, 1.173813, 1.074172, 1.090366, 1.676235, 1.265915, 1.089709, 1.085916, 1.117563, 1.087062, 1.204711, 1.092334, 1.087772, 1.084211, 1.099809, 1.100033, 1.07999, 1.076324]\n",
      "operator_time: [0.259117, 0.239473, 0.259105, 0.231316, 0.238901, 0.258781, 0.238222, 0.24004, 0.239052, 0.23911, 0.260014, 0.238487, 0.240232, 0.239101, 0.239064, 0.260765, 0.257367, 0.239062, 0.238763, 0.238045]\n",
      "gauss_time: [0.023413, 0.021317, 0.023273, 0.019538, 0.022065, 0.023635, 0.020017, 0.021143, 0.020691, 0.022512, 0.023917, 0.021332, 0.019918, 0.020734, 0.020939, 0.023876, 0.022864, 0.020086, 0.021473, 0.021344]\n",
      "setup_time: [1.939492, 1.681534, 5.715631, 0.756925, 5.727961, 1.702235, 10.061708, 4.387245, 1.734589, 0.830482, 10.490268, 6.708564, 1.740267, 10.646032, 1.711299, 1.931531, 1.641595, 6.741824, 0.767363, 0.822355]\n",
      "solve_time: [0.109405, 0.190997, 0.104314, 0.291576, 0.09389, 0.091759, 48.08754, 0.106966, 0.193301, 0.192035, 4.079744, 0.145, 0.189214, 3.789471, 0.091654, 0.108042, 0.0881, 0.102823, 0.189152, 0.191457]\n",
      "idx: ['1-inter.out.14', '1-inter.out.0', '1-inter.out.12', '1-inter.out.3', '1-inter.out.7', '1-inter.out.6', '1-inter.out.24', '1-inter.out.13', '1-inter.out.', '1-inter.out.5', '1-inter.out.10', '1-inter.out.8', '1-inter.out.19', '1-inter.out.20', '1-inter.out.17', '1-inter.out.16', '1-inter.out.18', '1-inter.out.9', '1-inter.out.15', '1-inter.out.4']\n",
      "20\n"
     ]
    }
   ],
   "source": [
    "import re\n",
    "import glob\n",
    "\n",
    "# Define the file pattern and arrays\n",
    "filename_pattern = \"1-inter.out*\"\n",
    "output_arrays = {\n",
    "    \"init_time\": [],\n",
    "    \"operator_time\": [],\n",
    "    \"gauss_time\": [],\n",
    "    \"setup_time\": [],\n",
    "    \"solve_time\": [],\n",
    "    \"idx\": [],\n",
    "}\n",
    "\n",
    "# Regular expression pattern to match the \"wall clock time\" lines\n",
    "pattern = r\"wall clock time = (\\d+\\.\\d+)\"\n",
    "\n",
    "# Find all files matching the pattern\n",
    "files = glob.glob(filename_pattern)\n",
    "num_ok = 0\n",
    "# Iterate over the files\n",
    "for filename in files:\n",
    "    try:\n",
    "        # Open the file for reading\n",
    "        with open(filename, \"r\") as file:\n",
    "            # Read the file contents\n",
    "            contents = file.read()\n",
    "\n",
    "            # Find all matches of the pattern\n",
    "            matches = re.findall(pattern, contents)\n",
    "            if len(matches) == 5:\n",
    "                num_ok += 1\n",
    "                #print(len(matches))\n",
    "            # Add the matches to the respective arrays\n",
    "                for j, match in enumerate(matches):\n",
    "                    if j == 0:\n",
    "                        output_arrays[\"init_time\"].append(float(match))\n",
    "                    elif j == 1:\n",
    "                        output_arrays[\"operator_time\"].append(float(match))\n",
    "                    elif j == 2:\n",
    "                        output_arrays[\"gauss_time\"].append(float(match))\n",
    "                    elif j == 3:\n",
    "                        output_arrays[\"setup_time\"].append(float(match))\n",
    "                    elif j == 4:\n",
    "                        output_arrays[\"solve_time\"].append(float(match))\n",
    "                output_arrays[\"idx\"].append(filename)\n",
    "\n",
    "            #print(f\"Processed {filename}\")\n",
    "    except FileNotFoundError:\n",
    "        print(f\"File {filename} not found\")\n",
    "\n",
    "# Print the resulting arrays\n",
    "for key, arr in output_arrays.items():\n",
    "    print(f\"{key}: {arr}\")\n",
    "print(num_ok)"
   ]
  }
 ],
 "metadata": {
  "kernelspec": {
   "display_name": "Python 3 (ipykernel)",
   "language": "python",
   "name": "python3"
  },
  "language_info": {
   "codemirror_mode": {
    "name": "ipython",
    "version": 3
   },
   "file_extension": ".py",
   "mimetype": "text/x-python",
   "name": "python",
   "nbconvert_exporter": "python",
   "pygments_lexer": "ipython3",
   "version": "3.9.13"
  }
 },
 "nbformat": 4,
 "nbformat_minor": 5
}
