{
 "cells": [
  {
   "cell_type": "code",
   "execution_count": 8,
   "id": "86e3893a",
   "metadata": {},
   "outputs": [
    {
     "name": "stdout",
     "output_type": "stream",
     "text": [
      "Processed inter.out.12\n",
      "Processed inter.out.21\n",
      "Processed inter.out.16\n",
      "Processed inter.out.20\n",
      "Processed inter.out.3\n",
      "Processed inter.out.17\n",
      "Processed inter.out.6\n",
      "Processed inter.out.9\n",
      "Processed inter.out.4\n",
      "Processed inter.out.19\n",
      "Processed inter.out.15\n",
      "Processed inter.out.8\n",
      "Processed inter.out.24\n",
      "Processed inter.out.18\n",
      "Processed inter.out.14\n",
      "Processed inter.out.11\n",
      "Processed inter.out.5\n",
      "Processed inter.out.0\n",
      "Processed inter.out.10\n",
      "Processed inter.out.13\n",
      "Processed inter.out.7\n",
      "init_time: [2.001909, 1.22991, 2.062407, 2.027132, 2.15366, 2.150341, 2.087375, 1.205498, 1.169491, 2.200962, 1.258066, 1.136811, 1.270979, 2.189868, 1.174185, 1.25239, 1.384081, 1.271503, 2.121195, 1.202288, 2.171972]\n",
      "operator_time: [0.243119, 0.237814, 0.239777, 0.260922, 0.238286, 0.239281, 0.238568, 0.25779, 0.238677, 0.23969, 0.238132, 0.258377, 0.243375, 0.259174, 0.238233, 0.228601, 0.258386, 0.23891, 0.239231, 0.238365, 0.257377]\n",
      "gauss_time: [0.020484, 0.020839, 0.021525, 0.023859, 0.021306, 0.020889, 0.01991, 0.024857, 0.02128, 0.021985, 0.02173, 0.023283, 0.018443, 0.022561, 0.021346, 0.019524, 0.022637, 0.021304, 0.020788, 0.021432, 0.023581]\n",
      "setup_time: [6.059854, 11.17173, 1.980989, 10.761615, 0.756599, 1.639381, 1.63119, 7.20663, 1.56374, 2.184719, 1.085721, 7.084245, 10.084379, 1.65795, 2.162807, 11.078924, 1.167219, 1.877937, 10.502444, 4.665338, 6.041123]\n",
      "solve_time: [0.105348, 85.808354, 0.109066, 3.861411, 0.2902, 0.091354, 0.091199, 0.104382, 0.19171, 0.19187, 0.191218, 0.144923, 48.737014, 0.091029, 0.109117, 87.349717, 0.190227, 0.19268, 4.231899, 0.105958, 0.094004]\n"
     ]
    }
   ],
   "source": [
    "import re\n",
    "import glob\n",
    "\n",
    "# Define the file pattern and arrays\n",
    "filename_pattern = \"inter.out*\"\n",
    "output_arrays = {\n",
    "    \"init_time\": [],\n",
    "    \"operator_time\": [],\n",
    "    \"gauss_time\": [],\n",
    "    \"setup_time\": [],\n",
    "    \"solve_time\": []\n",
    "}\n",
    "\n",
    "# Regular expression pattern to match the \"wall clock time\" lines\n",
    "pattern = r\"wall clock time = (\\d+\\.\\d+)\"\n",
    "\n",
    "# Find all files matching the pattern\n",
    "files = glob.glob(filename_pattern)\n",
    "\n",
    "# Iterate over the files\n",
    "for filename in files:\n",
    "    try:\n",
    "        # Open the file for reading\n",
    "        with open(filename, \"r\") as file:\n",
    "            # Read the file contents\n",
    "            contents = file.read()\n",
    "\n",
    "            # Find all matches of the pattern\n",
    "            matches = re.findall(pattern, contents)\n",
    "            if len(matches) == 5:\n",
    "                continue\n",
    "            # Add the matches to the respective arrays\n",
    "                for j, match in enumerate(matches):\n",
    "                    if j == 0:\n",
    "                        output_arrays[\"init_time\"].append(float(match))\n",
    "                    elif j == 1:\n",
    "                        output_arrays[\"operator_time\"].append(float(match))\n",
    "                    elif j == 2:\n",
    "                        output_arrays[\"gauss_time\"].append(float(match))\n",
    "                    elif j == 3:\n",
    "                        output_arrays[\"setup_time\"].append(float(match))\n",
    "                    elif j == 4:\n",
    "                        output_arrays[\"solve_time\"].append(float(match))\n",
    "\n",
    "            print(f\"Processed {filename}\")\n",
    "    except FileNotFoundError:\n",
    "        print(f\"File {filename} not found\")\n",
    "\n",
    "# Print the resulting arrays\n",
    "for key, arr in output_arrays.items():\n",
    "    print(f\"{key}: {arr}\")\n"
   ]
  },
  {
   "cell_type": "code",
   "execution_count": 9,
   "id": "3781375b",
   "metadata": {},
   "outputs": [
    {
     "name": "stdout",
     "output_type": "stream",
     "text": [
      "9\n",
      "13\n",
      "10\n",
      "10\n",
      "10\n"
     ]
    }
   ],
   "source": [
    "for i in output_arrays:\n",
    "    print(len(i))"
   ]
  },
  {
   "cell_type": "code",
   "execution_count": null,
   "id": "1f39665c",
   "metadata": {},
   "outputs": [],
   "source": []
  }
 ],
 "metadata": {
  "kernelspec": {
   "display_name": "Python 3 (ipykernel)",
   "language": "python",
   "name": "python3"
  },
  "language_info": {
   "codemirror_mode": {
    "name": "ipython",
    "version": 3
   },
   "file_extension": ".py",
   "mimetype": "text/x-python",
   "name": "python",
   "nbconvert_exporter": "python",
   "pygments_lexer": "ipython3",
   "version": "3.9.13"
  }
 },
 "nbformat": 4,
 "nbformat_minor": 5
}
